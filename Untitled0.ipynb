{
  "nbformat": 4,
  "nbformat_minor": 0,
  "metadata": {
    "colab": {
      "provenance": [],
      "authorship_tag": "ABX9TyM+ZnGpCDYHDGDr4NkL9BKf",
      "include_colab_link": true
    },
    "kernelspec": {
      "name": "python3",
      "display_name": "Python 3"
    },
    "language_info": {
      "name": "python"
    }
  },
  "cells": [
    {
      "cell_type": "markdown",
      "metadata": {
        "id": "view-in-github",
        "colab_type": "text"
      },
      "source": [
        "<a href=\"https://colab.research.google.com/github/ThotaBhavani/AIML-BATCH--4/blob/main/Untitled0.ipynb\" target=\"_parent\"><img src=\"https://colab.research.google.com/assets/colab-badge.svg\" alt=\"Open In Colab\"/></a>"
      ]
    },
    {
      "cell_type": "code",
      "execution_count": null,
      "metadata": {
        "id": "0sErDtNzTdoQ"
      },
      "outputs": [],
      "source": []
    },
    {
      "cell_type": "markdown",
      "source": [
        "import numpy as np\n",
        "import pandas as pd\n",
        "\n",
        "# Creating lists\n",
        "list1 = [1, 2, 3, 4, 5]\n",
        "list2 = [6, 7, 8, 9, 10]\n",
        "\n",
        "# Converting lists to arrays\n",
        "array1 = np.array(list1)\n",
        "array2 = np.array(list2)\n",
        "\n",
        "# Identifying types\n",
        "print(\"Type of array1:\", type(array1))\n",
        "print(\"Type of array2:\", type(array2))\n",
        "\n",
        "# Performing mathematical operations\n",
        "multiplication_result = array1 * array2\n",
        "division_result = array2 / array1\n",
        "poweroff_result = array1 ** 2\n",
        "\n",
        "# Combining text with NumPy function\n",
        "text_output = f\"Addition of Two: {array1} + {array2}\"\n",
        "\n",
        "# Implementing numpy functions\n",
        "sin_result = np.sin(array1)\n",
        "log_result = np.log(array2)\n",
        "log2_result = np.log2(array2)\n",
        "exp_result = np.exp(array1)\n",
        "\n",
        "# Printing results\n",
        "print(\"Multiplication Result:\", multiplication_result)\n",
        "print(\"Division Result:\", division_result)\n",
        "print(\"Poweroff Result:\", poweroff_result)\n",
        "print(\"Textual Output:\", text_output)\n",
        "print(\"Sin Result:\", sin_result)\n",
        "print(\"Log Result:\", log_result)\n",
        "print(\"Log2 Result:\", log2_result)\n",
        "print(\"Exponential Result:\", exp_result)"
      ],
      "metadata": {
        "id": "48yohDDcYUP-"
      }
    },
    {
      "cell_type": "code",
      "source": [
        "import numpy as np\n",
        "import pandas as pd\n",
        "\n",
        "# Creating lists\n",
        "list1 = [1, 2, 3, 4, 5]\n",
        "list2 = [6, 7, 8, 9, 10]\n",
        "\n",
        "# Converting lists to arrays\n",
        "array1 = np.array(list1)\n",
        "array2 = np.array(list2)\n",
        "\n",
        "# Identifying types\n",
        "print(\"Type of array1:\", type(array1))\n",
        "print(\"Type of array2:\", type(array2))\n",
        "\n",
        "# Performing mathematical operations\n",
        "multiplication_result = array1 * array2\n",
        "division_result = array2 / array1\n",
        "poweroff_result = array1 ** 2\n",
        "\n",
        "# Combining text with NumPy function\n",
        "text_output = f\"Addition of Two: {array1} + {array2}\"\n",
        "\n",
        "# Implementing numpy functions\n",
        "sin_result = np.sin(array1)\n",
        "log_result = np.log(array2)\n",
        "log2_result = np.log2(array2)\n",
        "exp_result = np.exp(array1)\n",
        "\n",
        "# Printing results\n",
        "print(\"Multiplication Result:\", multiplication_result)\n",
        "print(\"Division Result:\", division_result)\n",
        "print(\"Poweroff Result:\", poweroff_result)\n",
        "print(\"Textual Output:\", text_output)\n",
        "print(\"Sin Result:\", sin_result)\n",
        "print(\"Log Result:\", log_result)\n",
        "print(\"Log2 Result:\", log2_result)\n",
        "print(\"Exponential Result:\", exp_result)"
      ],
      "metadata": {
        "id": "-rVRTJBwYmGQ"
      },
      "execution_count": null,
      "outputs": []
    }
  ]
}